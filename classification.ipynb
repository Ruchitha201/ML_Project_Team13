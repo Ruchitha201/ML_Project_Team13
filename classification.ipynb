{
  "nbformat": 4,
  "nbformat_minor": 0,
  "metadata": {
    "colab": {
      "name": "classification.ipynb",
      "provenance": [],
      "collapsed_sections": [],
      "mount_file_id": "1igFIBzAn7NQYbzmWn1Xsrfi6D5smxl6c",
      "authorship_tag": "ABX9TyPtAqf5EP3a9dwW7r7e5a5i",
      "include_colab_link": true
    },
    "kernelspec": {
      "name": "python3",
      "display_name": "Python 3"
    },
    "language_info": {
      "name": "python"
    }
  },
  "cells": [
    {
      "cell_type": "markdown",
      "metadata": {
        "id": "view-in-github",
        "colab_type": "text"
      },
      "source": [
        "<a href=\"https://colab.research.google.com/github/Ruchitha201/ML_Project_Team13/blob/main/classification.ipynb\" target=\"_parent\"><img src=\"https://colab.research.google.com/assets/colab-badge.svg\" alt=\"Open In Colab\"/></a>"
      ]
    },
    {
      "cell_type": "code",
      "metadata": {
        "id": "jROby3VejtxO"
      },
      "source": [
        "from sklearn.base import BaseEstimator, TransformerMixin\n",
        "import pandas as pd\n",
        "from sklearn.model_selection import train_test_split\n",
        "from sklearn.metrics import roc_curve, roc_auc_score, f1_score\n",
        "import numpy as np\n",
        "from sklearn.neighbors import KNeighborsClassifier\n",
        "import matplotlib.pyplot as plt\n",
        "import seaborn as sns\n",
        "from sklearn.pipeline import Pipeline, FeatureUnion\n",
        "from sklearn.metrics import accuracy_score\n",
        "from sklearn.metrics import confusion_matrix\n",
        "from sklearn import metrics\n",
        "import warnings\n",
        "import dlib\n",
        "import cv2"
      ],
      "execution_count": null,
      "outputs": []
    },
    {
      "cell_type": "code",
      "metadata": {
        "colab": {
          "base_uri": "https://localhost:8080/",
          "height": 496
        },
        "id": "jJpLN4KPw869",
        "outputId": "c9d2b2f4-b2fb-441b-c3ea-699bdfb22c9b"
      },
      "source": [
        "df = pd.read_csv('/content/drive/MyDrive/totalmaindata.csv',sep=',')\n",
        "participants = set(df.Participant)\n",
        "df = df.drop([\"Participant\"], axis=1)\n",
        "df = df[df.Y != 5.0]  # form a binary problem, delete the 5.0 ones\n",
        "df.loc[df.Y == 0.0, \"Y\"] = int(0)\n",
        "df.loc[df.Y == 10.0, \"Y\"] = int(1)\n",
        "\n",
        "train_percentage = 14/18 # based on max uniq. participants\n",
        "train_samples = int(len(df) * train_percentage)\n",
        "test_samples = len(df) - train_samples\n",
        "\n",
        "df_train = df[:train_samples]\n",
        "df_test = df[-test_samples:]\n",
        "\n",
        "X_test = df_test.drop([\"Y\"], axis=1)\n",
        "y_test = df_test[\"Y\"]\n",
        "\n",
        "X_train = df_train.drop('Y', axis=1)\n",
        "y_train = df_train['Y']\n",
        "print(f'X_test: {X_test.shape} \\ny_test: {y_test.shape} \\nX_train: {X_train.shape} \\ny_train: {y_train.shape}')\n",
        "df_train"
      ],
      "execution_count": null,
      "outputs": [
        {
          "output_type": "stream",
          "text": [
            "X_test: (1920, 8) \n",
            "y_test: (1920,) \n",
            "X_train: (6720, 8) \n",
            "y_train: (6720,)\n"
          ],
          "name": "stdout"
        },
        {
          "output_type": "execute_result",
          "data": {
            "text/html": [
              "<div>\n",
              "<style scoped>\n",
              "    .dataframe tbody tr th:only-of-type {\n",
              "        vertical-align: middle;\n",
              "    }\n",
              "\n",
              "    .dataframe tbody tr th {\n",
              "        vertical-align: top;\n",
              "    }\n",
              "\n",
              "    .dataframe thead th {\n",
              "        text-align: right;\n",
              "    }\n",
              "</style>\n",
              "<table border=\"1\" class=\"dataframe\">\n",
              "  <thead>\n",
              "    <tr style=\"text-align: right;\">\n",
              "      <th></th>\n",
              "      <th>Y</th>\n",
              "      <th>MOE</th>\n",
              "      <th>EAR</th>\n",
              "      <th>MAR</th>\n",
              "      <th>Circularity</th>\n",
              "      <th>EAR_N</th>\n",
              "      <th>MAR_N</th>\n",
              "      <th>Circularity_N</th>\n",
              "      <th>MOE_N</th>\n",
              "    </tr>\n",
              "  </thead>\n",
              "  <tbody>\n",
              "    <tr>\n",
              "      <th>0</th>\n",
              "      <td>0</td>\n",
              "      <td>2.534145</td>\n",
              "      <td>0.312688</td>\n",
              "      <td>0.792397</td>\n",
              "      <td>0.432896</td>\n",
              "      <td>-0.999551</td>\n",
              "      <td>0.802437</td>\n",
              "      <td>-0.948848</td>\n",
              "      <td>0.877172</td>\n",
              "    </tr>\n",
              "    <tr>\n",
              "      <th>1</th>\n",
              "      <td>0</td>\n",
              "      <td>2.379947</td>\n",
              "      <td>0.321940</td>\n",
              "      <td>0.766199</td>\n",
              "      <td>0.486923</td>\n",
              "      <td>-0.000897</td>\n",
              "      <td>0.317858</td>\n",
              "      <td>1.044306</td>\n",
              "      <td>0.211742</td>\n",
              "    </tr>\n",
              "    <tr>\n",
              "      <th>2</th>\n",
              "      <td>0</td>\n",
              "      <td>2.078550</td>\n",
              "      <td>0.331216</td>\n",
              "      <td>0.688449</td>\n",
              "      <td>0.456029</td>\n",
              "      <td>1.000448</td>\n",
              "      <td>-1.120295</td>\n",
              "      <td>-0.095458</td>\n",
              "      <td>-1.088914</td>\n",
              "    </tr>\n",
              "    <tr>\n",
              "      <th>3</th>\n",
              "      <td>0</td>\n",
              "      <td>2.509767</td>\n",
              "      <td>0.309246</td>\n",
              "      <td>0.776136</td>\n",
              "      <td>0.452655</td>\n",
              "      <td>-1.371052</td>\n",
              "      <td>0.501666</td>\n",
              "      <td>-0.219920</td>\n",
              "      <td>0.771970</td>\n",
              "    </tr>\n",
              "    <tr>\n",
              "      <th>4</th>\n",
              "      <td>0</td>\n",
              "      <td>3.586821</td>\n",
              "      <td>0.204691</td>\n",
              "      <td>0.734189</td>\n",
              "      <td>0.361123</td>\n",
              "      <td>-12.657205</td>\n",
              "      <td>-0.274242</td>\n",
              "      <td>-3.596686</td>\n",
              "      <td>5.419921</td>\n",
              "    </tr>\n",
              "    <tr>\n",
              "      <th>...</th>\n",
              "      <td>...</td>\n",
              "      <td>...</td>\n",
              "      <td>...</td>\n",
              "      <td>...</td>\n",
              "      <td>...</td>\n",
              "      <td>...</td>\n",
              "      <td>...</td>\n",
              "      <td>...</td>\n",
              "      <td>...</td>\n",
              "    </tr>\n",
              "    <tr>\n",
              "      <th>9595</th>\n",
              "      <td>1</td>\n",
              "      <td>3.516036</td>\n",
              "      <td>0.308254</td>\n",
              "      <td>1.083833</td>\n",
              "      <td>0.440628</td>\n",
              "      <td>-3.087456</td>\n",
              "      <td>3.700493</td>\n",
              "      <td>-1.776452</td>\n",
              "      <td>4.040717</td>\n",
              "    </tr>\n",
              "    <tr>\n",
              "      <th>9596</th>\n",
              "      <td>1</td>\n",
              "      <td>3.585545</td>\n",
              "      <td>0.301381</td>\n",
              "      <td>1.080614</td>\n",
              "      <td>0.447949</td>\n",
              "      <td>-3.694883</td>\n",
              "      <td>3.646635</td>\n",
              "      <td>-1.472575</td>\n",
              "      <td>4.322363</td>\n",
              "    </tr>\n",
              "    <tr>\n",
              "      <th>9597</th>\n",
              "      <td>1</td>\n",
              "      <td>3.750118</td>\n",
              "      <td>0.286855</td>\n",
              "      <td>1.075740</td>\n",
              "      <td>0.450278</td>\n",
              "      <td>-4.978551</td>\n",
              "      <td>3.565087</td>\n",
              "      <td>-1.375905</td>\n",
              "      <td>4.989206</td>\n",
              "    </tr>\n",
              "    <tr>\n",
              "      <th>9598</th>\n",
              "      <td>1</td>\n",
              "      <td>4.123695</td>\n",
              "      <td>0.260188</td>\n",
              "      <td>1.072936</td>\n",
              "      <td>0.403545</td>\n",
              "      <td>-7.335156</td>\n",
              "      <td>3.518178</td>\n",
              "      <td>-3.315660</td>\n",
              "      <td>6.502924</td>\n",
              "    </tr>\n",
              "    <tr>\n",
              "      <th>9599</th>\n",
              "      <td>1</td>\n",
              "      <td>3.734268</td>\n",
              "      <td>0.284039</td>\n",
              "      <td>1.060679</td>\n",
              "      <td>0.437864</td>\n",
              "      <td>-5.227374</td>\n",
              "      <td>3.313096</td>\n",
              "      <td>-1.891200</td>\n",
              "      <td>4.924982</td>\n",
              "    </tr>\n",
              "  </tbody>\n",
              "</table>\n",
              "<p>6720 rows × 9 columns</p>\n",
              "</div>"
            ],
            "text/plain": [
              "      Y       MOE       EAR  ...     MAR_N  Circularity_N     MOE_N\n",
              "0     0  2.534145  0.312688  ...  0.802437      -0.948848  0.877172\n",
              "1     0  2.379947  0.321940  ...  0.317858       1.044306  0.211742\n",
              "2     0  2.078550  0.331216  ... -1.120295      -0.095458 -1.088914\n",
              "3     0  2.509767  0.309246  ...  0.501666      -0.219920  0.771970\n",
              "4     0  3.586821  0.204691  ... -0.274242      -3.596686  5.419921\n",
              "...  ..       ...       ...  ...       ...            ...       ...\n",
              "9595  1  3.516036  0.308254  ...  3.700493      -1.776452  4.040717\n",
              "9596  1  3.585545  0.301381  ...  3.646635      -1.472575  4.322363\n",
              "9597  1  3.750118  0.286855  ...  3.565087      -1.375905  4.989206\n",
              "9598  1  4.123695  0.260188  ...  3.518178      -3.315660  6.502924\n",
              "9599  1  3.734268  0.284039  ...  3.313096      -1.891200  4.924982\n",
              "\n",
              "[6720 rows x 9 columns]"
            ]
          },
          "metadata": {
            "tags": []
          },
          "execution_count": 19
        }
      ]
    },
    {
      "cell_type": "code",
      "metadata": {
        "colab": {
          "base_uri": "https://localhost:8080/",
          "height": 250
        },
        "id": "RkSF_JTWxNNi",
        "outputId": "6b93244f-9ab5-4e6d-e8ed-285c4732e3c5"
      },
      "source": [
        "label = 'Alert', 'Drowsy'\n",
        "plt.figure(figsize = (8,8))\n",
        "plt.subplot(121)\n",
        "plt.title(\"Training Set\")\n",
        "plt.pie(df_train.groupby('Y').size(), labels = label, autopct='%1.1f%%', startangle=45, colors={\"grey\", \"darkgrey\"})\n",
        "plt.subplot(122)\n",
        "plt.title(\"Test Set\")\n",
        "plt.pie(df_test.groupby('Y').size(), labels = label, autopct='%1.1f%%', startangle=90, colors={\"grey\", \"darkgrey\"})\n",
        "plt.show()"
      ],
      "execution_count": null,
      "outputs": [
        {
          "output_type": "display_data",
          "data": {
            "image/png": "[encoded data removed]",
            "text/plain": [
              "<Figure size 576x576 with 2 Axes>"
            ]
          },
          "metadata": {
            "tags": []
          }
        }
      ]
    },
    {
      "cell_type": "code",
      "metadata": {
        "colab": {
          "base_uri": "https://localhost:8080/"
        },
        "id": "2h_xnK-ExP06",
        "outputId": "ddef87f7-ed38-437e-d125-8ed02ee76ee8"
      },
      "source": [
        "#KNN classifier\n",
        "def average(y_pred):\n",
        "    \"\"\"Averaging sequential frames for classifier\"\"\"\n",
        "    for i in range(len(y_pred)-1):\n",
        "        if i % 240 == 0 or (i+1) % 240 == 0:\n",
        "            pass\n",
        "        else: \n",
        "            average = float(y_pred[i-1] + y_pred[i] + y_pred[i+1])/3\n",
        "            if average >= 0.5:\n",
        "                y_pred[i] = 1\n",
        "            else:\n",
        "                y_pred[i] = 0\n",
        "    return y_pred\n",
        "\n",
        "acc3_list = []\n",
        "f1_score3_list = []\n",
        "roc_3_list = []\n",
        "\n",
        "# take 45 runs and save best one\n",
        "for i in range(1, 45):\n",
        "    neigh = KNeighborsClassifier(n_neighbors=i)\n",
        "    neigh.fit(X_train, y_train) \n",
        "    pred_KN = neigh.predict(X_test)\n",
        "    pred_KN = average(pred_KN)\n",
        "    y_score_3 = neigh.predict_proba(X_test)[:,1]\n",
        "    acc3_list.append(accuracy_score(y_test, pred_KN))\n",
        "    f1_score3_list.append(metrics.f1_score(y_test, pred_KN))\n",
        "    roc_3_list.append(metrics.roc_auc_score(y_test, y_score_3))\n",
        "    \n",
        "neigh = KNeighborsClassifier(n_neighbors=acc3_list.index(max(acc3_list))+1)\n",
        "print(f\"Neighbors: {neigh.get_params()['n_neighbors']}\")\n",
        "neigh.fit(X_train, y_train)\n",
        "acc3 = accuracy_score(y_test, pred_KN)\n",
        "print(acc3)"
      ],
      "execution_count": null,
      "outputs": [
        {
          "output_type": "stream",
          "text": [
            "Neighbors: 38\n",
            "0.6963541666666667\n"
          ],
          "name": "stdout"
        }
      ]
    },
    {
      "cell_type": "code",
      "metadata": {
        "id": "Y08JL9anxg28"
      },
      "source": [
        "def model_knn(landmarks):\n",
        "    \"\"\"Returns features and classification result\"\"\"\n",
        "    features = pd.DataFrame(columns=[\"EAR\",\"MAR\",\"Circularity\",\"MOE\"])\n",
        "    eye = landmarks[36:68] # Extracting relevant parts (eyes + mouth)\n",
        "    ear = eye_aspect_ratio(eye)\n",
        "    mar = mouth_aspect_ratio(eye)\n",
        "    cir = circularity(eye)\n",
        "    mouth_eye = mouth_over_eye(eye)\n",
        "    df = features.append({\"EAR\":ear,\"MAR\": mar,\"Circularity\": cir,\"MOE\": mouth_eye},ignore_index=True)\n",
        "\n",
        "    # Normalisation\n",
        "    df[\"EAR_N\"] = (df[\"EAR\"] - mean[\"EAR\"]) / std[\"EAR\"]\n",
        "    df[\"MAR_N\"] = (df[\"MAR\"] - mean[\"MAR\"]) / std[\"MAR\"]\n",
        "    df[\"Circularity_N\"] = (df[\"Circularity\"] - mean[\"Circularity\"]) / std[\"Circularity\"]\n",
        "    df[\"MOE_N\"] = (df[\"MOE\"] - mean[\"MOE\"]) / std[\"MOE\"]\n",
        "    \n",
        "    Result = neigh.predict(df)  \n",
        "    if Result == 1:\n",
        "        Result_String = \"Drowsy\"\n",
        "        fontColor = (0, 0, 245)\n",
        "    else:\n",
        "        Result_String = \"Alert\"\n",
        "        fontColor = (255, 255, 255)\n",
        "    \n",
        "    return Result_String, df.values, fontColor"
      ],
      "execution_count": null,
      "outputs": []
    },
    {
      "cell_type": "code",
      "metadata": {
        "id": "ICB47BDShdVW"
      },
      "source": [
        ""
      ],
      "execution_count": null,
      "outputs": []
    },
    {
      "cell_type": "code",
      "metadata": {
        "id": "TuawmiJLSOhJ"
      },
      "source": [
        "X_train_shaped = np.expand_dims(X_train, axis=2)"
      ],
      "execution_count": null,
      "outputs": []
    },
    {
      "cell_type": "code",
      "metadata": {
        "colab": {
          "base_uri": "https://localhost:8080/"
        },
        "id": "fslJ5YzhhhTA",
        "outputId": "749b0a3c-3b7f-46cd-b30f-f597194daf3d"
      },
      "source": [
        "X_train_shaped.shape"
      ],
      "execution_count": null,
      "outputs": [
        {
          "output_type": "execute_result",
          "data": {
            "text/plain": [
              "(6720, 8, 1)"
            ]
          },
          "metadata": {
            "tags": []
          },
          "execution_count": 28
        }
      ]
    },
    {
      "cell_type": "code",
      "metadata": {
        "id": "UrdH4e9jhhpe"
      },
      "source": [
        "X_test_shaped = np.expand_dims(X_test, axis=2)"
      ],
      "execution_count": null,
      "outputs": []
    },
    {
      "cell_type": "code",
      "metadata": {
        "colab": {
          "base_uri": "https://localhost:8080/"
        },
        "id": "z6vtAGbwhiCH",
        "outputId": "2cbb019b-8350-4111-e78f-8a723ebd3063"
      },
      "source": [
        "X_test_shaped.shape"
      ],
      "execution_count": null,
      "outputs": [
        {
          "output_type": "execute_result",
          "data": {
            "text/plain": [
              "(1920, 8, 1)"
            ]
          },
          "metadata": {
            "tags": []
          },
          "execution_count": 30
        }
      ]
    },
    {
      "cell_type": "code",
      "metadata": {
        "colab": {
          "base_uri": "https://localhost:8080/"
        },
        "id": "b2JMh40wgb4Y",
        "outputId": "33a54f8f-4bf6-458e-ecd7-a78a4dc8cde3"
      },
      "source": [
        "from keras.models import Sequential\n",
        "from keras.layers import Dense, Flatten\n",
        "from keras.layers.convolutional import Conv1D\n",
        "from keras.optimizers import Adam, RMSprop\n",
        "from keras.layers import Dropout\n",
        "## Create Model ##\n",
        "\n",
        "model = Sequential()\n",
        "\n",
        "model.add(Conv1D(64, kernel_size = 3, activation = 'relu', input_shape = (8,1)))\n",
        "model.add(Flatten())\n",
        "model.add(Dense(32, activation='relu'))\n",
        "model.add(Dense(16, activation = 'relu'))\n",
        "model.add(Dropout(0.2))\n",
        "model.add(Dense(1,activation = 'sigmoid'))\n",
        "\n",
        "\n",
        "## Compile Model ##\n",
        "optimizer = Adam(lr=0.00001)\n",
        "model.compile(loss='binary_crossentropy', optimizer=optimizer, metrics=['accuracy'])\n",
        "\n",
        "## Train Model and Check Validation Accuracy ##\n",
        "model.fit(X_train_shaped, y_train, validation_data = (X_test_shaped,y_test), epochs = 100)"
      ],
      "execution_count": null,
      "outputs": [
        {
          "output_type": "stream",
          "text": [
            "/usr/local/lib/python3.7/dist-packages/tensorflow/python/keras/optimizer_v2/optimizer_v2.py:375: UserWarning: The `lr` argument is deprecated, use `learning_rate` instead.\n",
            "  \"The `lr` argument is deprecated, use `learning_rate` instead.\")\n"
          ],
          "name": "stderr"
        },
        {
          "output_type": "stream",
          "text": [
            "Epoch 1/100\n",
            "210/210 [==============================] - 17s 5ms/step - loss: 0.7339 - accuracy: 0.5109 - val_loss: 0.6893 - val_accuracy: 0.5490\n",
            "Epoch 2/100\n",
            "210/210 [==============================] - 0s 2ms/step - loss: 0.6694 - accuracy: 0.5829 - val_loss: 0.6595 - val_accuracy: 0.6333\n",
            "Epoch 3/100\n",
            "210/210 [==============================] - 1s 3ms/step - loss: 0.6424 - accuracy: 0.6386 - val_loss: 0.6421 - val_accuracy: 0.7099\n",
            "Epoch 4/100\n",
            "210/210 [==============================] - 1s 2ms/step - loss: 0.6357 - accuracy: 0.6737 - val_loss: 0.6281 - val_accuracy: 0.7312\n",
            "Epoch 5/100\n",
            "210/210 [==============================] - 1s 3ms/step - loss: 0.6092 - accuracy: 0.6976 - val_loss: 0.6155 - val_accuracy: 0.7344\n",
            "Epoch 6/100\n",
            "210/210 [==============================] - 0s 2ms/step - loss: 0.6074 - accuracy: 0.7136 - val_loss: 0.6038 - val_accuracy: 0.7359\n",
            "Epoch 7/100\n",
            "210/210 [==============================] - 0s 2ms/step - loss: 0.5939 - accuracy: 0.7208 - val_loss: 0.5944 - val_accuracy: 0.7328\n",
            "Epoch 8/100\n",
            "210/210 [==============================] - 0s 2ms/step - loss: 0.5825 - accuracy: 0.7343 - val_loss: 0.5861 - val_accuracy: 0.7333\n",
            "Epoch 9/100\n",
            "210/210 [==============================] - 0s 2ms/step - loss: 0.5770 - accuracy: 0.7304 - val_loss: 0.5781 - val_accuracy: 0.7323\n",
            "Epoch 10/100\n",
            "210/210 [==============================] - 0s 2ms/step - loss: 0.5688 - accuracy: 0.7546 - val_loss: 0.5721 - val_accuracy: 0.7302\n",
            "Epoch 11/100\n",
            "210/210 [==============================] - 1s 3ms/step - loss: 0.5592 - accuracy: 0.7554 - val_loss: 0.5676 - val_accuracy: 0.7333\n",
            "Epoch 12/100\n",
            "210/210 [==============================] - 0s 2ms/step - loss: 0.5560 - accuracy: 0.7456 - val_loss: 0.5669 - val_accuracy: 0.7401\n",
            "Epoch 13/100\n",
            "210/210 [==============================] - 1s 3ms/step - loss: 0.5360 - accuracy: 0.7624 - val_loss: 0.5632 - val_accuracy: 0.7427\n",
            "Epoch 14/100\n",
            "210/210 [==============================] - 0s 2ms/step - loss: 0.5291 - accuracy: 0.7597 - val_loss: 0.5614 - val_accuracy: 0.7474\n",
            "Epoch 15/100\n",
            "210/210 [==============================] - 0s 2ms/step - loss: 0.5267 - accuracy: 0.7676 - val_loss: 0.5584 - val_accuracy: 0.7547\n",
            "Epoch 16/100\n",
            "210/210 [==============================] - 0s 2ms/step - loss: 0.5257 - accuracy: 0.7704 - val_loss: 0.5557 - val_accuracy: 0.7599\n",
            "Epoch 17/100\n",
            "210/210 [==============================] - 0s 2ms/step - loss: 0.5239 - accuracy: 0.7651 - val_loss: 0.5552 - val_accuracy: 0.7635\n",
            "Epoch 18/100\n",
            "210/210 [==============================] - 0s 2ms/step - loss: 0.5148 - accuracy: 0.7689 - val_loss: 0.5536 - val_accuracy: 0.7682\n",
            "Epoch 19/100\n",
            "210/210 [==============================] - 0s 2ms/step - loss: 0.5131 - accuracy: 0.7715 - val_loss: 0.5506 - val_accuracy: 0.7682\n",
            "Epoch 20/100\n",
            "210/210 [==============================] - 0s 2ms/step - loss: 0.5139 - accuracy: 0.7651 - val_loss: 0.5498 - val_accuracy: 0.7656\n",
            "Epoch 21/100\n",
            "210/210 [==============================] - 0s 2ms/step - loss: 0.5084 - accuracy: 0.7681 - val_loss: 0.5534 - val_accuracy: 0.7365\n",
            "Epoch 22/100\n",
            "210/210 [==============================] - 0s 2ms/step - loss: 0.5047 - accuracy: 0.7639 - val_loss: 0.5512 - val_accuracy: 0.7266\n",
            "Epoch 23/100\n",
            "210/210 [==============================] - 0s 2ms/step - loss: 0.5004 - accuracy: 0.7845 - val_loss: 0.5531 - val_accuracy: 0.7057\n",
            "Epoch 24/100\n",
            "210/210 [==============================] - 0s 2ms/step - loss: 0.4832 - accuracy: 0.7870 - val_loss: 0.5563 - val_accuracy: 0.7016\n",
            "Epoch 25/100\n",
            "210/210 [==============================] - 0s 2ms/step - loss: 0.4953 - accuracy: 0.7814 - val_loss: 0.5519 - val_accuracy: 0.7047\n",
            "Epoch 26/100\n",
            "210/210 [==============================] - 0s 2ms/step - loss: 0.4947 - accuracy: 0.7846 - val_loss: 0.5528 - val_accuracy: 0.7063\n",
            "Epoch 27/100\n",
            "210/210 [==============================] - 1s 3ms/step - loss: 0.4854 - accuracy: 0.7788 - val_loss: 0.5566 - val_accuracy: 0.7026\n",
            "Epoch 28/100\n",
            "210/210 [==============================] - 0s 2ms/step - loss: 0.4820 - accuracy: 0.7976 - val_loss: 0.5596 - val_accuracy: 0.7031\n",
            "Epoch 29/100\n",
            "210/210 [==============================] - 0s 2ms/step - loss: 0.4742 - accuracy: 0.7987 - val_loss: 0.5573 - val_accuracy: 0.7036\n",
            "Epoch 30/100\n",
            "210/210 [==============================] - 1s 3ms/step - loss: 0.4804 - accuracy: 0.7903 - val_loss: 0.5618 - val_accuracy: 0.7016\n",
            "Epoch 31/100\n",
            "210/210 [==============================] - 0s 2ms/step - loss: 0.4867 - accuracy: 0.7883 - val_loss: 0.5624 - val_accuracy: 0.7016\n",
            "Epoch 32/100\n",
            "210/210 [==============================] - 0s 2ms/step - loss: 0.4697 - accuracy: 0.7956 - val_loss: 0.5578 - val_accuracy: 0.7026\n",
            "Epoch 33/100\n",
            "210/210 [==============================] - 1s 3ms/step - loss: 0.4754 - accuracy: 0.7904 - val_loss: 0.5606 - val_accuracy: 0.7010\n",
            "Epoch 34/100\n",
            "210/210 [==============================] - 1s 3ms/step - loss: 0.4771 - accuracy: 0.8010 - val_loss: 0.5600 - val_accuracy: 0.7036\n",
            "Epoch 35/100\n",
            "210/210 [==============================] - 0s 2ms/step - loss: 0.4670 - accuracy: 0.7950 - val_loss: 0.5629 - val_accuracy: 0.7036\n",
            "Epoch 36/100\n",
            "210/210 [==============================] - 0s 2ms/step - loss: 0.4600 - accuracy: 0.8059 - val_loss: 0.5640 - val_accuracy: 0.7021\n",
            "Epoch 37/100\n",
            "210/210 [==============================] - 0s 2ms/step - loss: 0.4654 - accuracy: 0.8061 - val_loss: 0.5659 - val_accuracy: 0.7031\n",
            "Epoch 38/100\n",
            "210/210 [==============================] - 0s 2ms/step - loss: 0.4602 - accuracy: 0.8079 - val_loss: 0.5673 - val_accuracy: 0.7036\n",
            "Epoch 39/100\n",
            "210/210 [==============================] - 0s 2ms/step - loss: 0.4622 - accuracy: 0.8093 - val_loss: 0.5648 - val_accuracy: 0.7031\n",
            "Epoch 40/100\n",
            "210/210 [==============================] - 0s 2ms/step - loss: 0.4579 - accuracy: 0.8098 - val_loss: 0.5650 - val_accuracy: 0.7016\n",
            "Epoch 41/100\n",
            "210/210 [==============================] - 0s 2ms/step - loss: 0.4537 - accuracy: 0.8094 - val_loss: 0.5657 - val_accuracy: 0.7042\n",
            "Epoch 42/100\n",
            "210/210 [==============================] - 0s 2ms/step - loss: 0.4506 - accuracy: 0.8115 - val_loss: 0.5699 - val_accuracy: 0.7042\n",
            "Epoch 43/100\n",
            "210/210 [==============================] - 0s 2ms/step - loss: 0.4566 - accuracy: 0.8065 - val_loss: 0.5719 - val_accuracy: 0.7047\n",
            "Epoch 44/100\n",
            "210/210 [==============================] - 0s 2ms/step - loss: 0.4443 - accuracy: 0.8154 - val_loss: 0.5749 - val_accuracy: 0.7047\n",
            "Epoch 45/100\n",
            "210/210 [==============================] - 0s 2ms/step - loss: 0.4406 - accuracy: 0.8255 - val_loss: 0.5703 - val_accuracy: 0.7016\n",
            "Epoch 46/100\n",
            "210/210 [==============================] - 1s 3ms/step - loss: 0.4519 - accuracy: 0.8159 - val_loss: 0.5764 - val_accuracy: 0.7036\n",
            "Epoch 47/100\n",
            "210/210 [==============================] - 0s 2ms/step - loss: 0.4374 - accuracy: 0.8166 - val_loss: 0.5806 - val_accuracy: 0.7031\n",
            "Epoch 48/100\n",
            "210/210 [==============================] - 0s 2ms/step - loss: 0.4437 - accuracy: 0.8155 - val_loss: 0.5764 - val_accuracy: 0.7010\n",
            "Epoch 49/100\n",
            "210/210 [==============================] - 0s 2ms/step - loss: 0.4604 - accuracy: 0.8086 - val_loss: 0.5782 - val_accuracy: 0.7010\n",
            "Epoch 50/100\n",
            "210/210 [==============================] - 1s 2ms/step - loss: 0.4434 - accuracy: 0.8188 - val_loss: 0.5802 - val_accuracy: 0.7016\n",
            "Epoch 51/100\n",
            "210/210 [==============================] - 0s 2ms/step - loss: 0.4388 - accuracy: 0.8171 - val_loss: 0.5841 - val_accuracy: 0.7010\n",
            "Epoch 52/100\n",
            "210/210 [==============================] - 0s 2ms/step - loss: 0.4380 - accuracy: 0.8161 - val_loss: 0.5842 - val_accuracy: 0.6995\n",
            "Epoch 53/100\n",
            "210/210 [==============================] - 1s 2ms/step - loss: 0.4383 - accuracy: 0.8221 - val_loss: 0.5809 - val_accuracy: 0.7000\n",
            "Epoch 54/100\n",
            "210/210 [==============================] - 0s 2ms/step - loss: 0.4327 - accuracy: 0.8189 - val_loss: 0.5863 - val_accuracy: 0.6984\n",
            "Epoch 55/100\n",
            "210/210 [==============================] - 1s 2ms/step - loss: 0.4372 - accuracy: 0.8162 - val_loss: 0.5912 - val_accuracy: 0.6995\n",
            "Epoch 56/100\n",
            "210/210 [==============================] - 0s 2ms/step - loss: 0.4368 - accuracy: 0.8231 - val_loss: 0.5844 - val_accuracy: 0.6979\n",
            "Epoch 57/100\n",
            "210/210 [==============================] - 1s 2ms/step - loss: 0.4476 - accuracy: 0.8127 - val_loss: 0.5906 - val_accuracy: 0.6974\n",
            "Epoch 58/100\n",
            "210/210 [==============================] - 0s 2ms/step - loss: 0.4391 - accuracy: 0.8140 - val_loss: 0.5913 - val_accuracy: 0.6979\n",
            "Epoch 59/100\n",
            "210/210 [==============================] - 1s 2ms/step - loss: 0.4404 - accuracy: 0.8187 - val_loss: 0.5958 - val_accuracy: 0.6984\n",
            "Epoch 60/100\n",
            "210/210 [==============================] - 0s 2ms/step - loss: 0.4345 - accuracy: 0.8187 - val_loss: 0.5979 - val_accuracy: 0.6984\n",
            "Epoch 61/100\n",
            "210/210 [==============================] - 1s 2ms/step - loss: 0.4379 - accuracy: 0.8223 - val_loss: 0.6076 - val_accuracy: 0.6995\n",
            "Epoch 62/100\n",
            "210/210 [==============================] - 1s 2ms/step - loss: 0.4152 - accuracy: 0.8292 - val_loss: 0.6099 - val_accuracy: 0.6995\n",
            "Epoch 63/100\n",
            "210/210 [==============================] - 0s 2ms/step - loss: 0.4218 - accuracy: 0.8224 - val_loss: 0.6071 - val_accuracy: 0.6990\n",
            "Epoch 64/100\n",
            "210/210 [==============================] - 0s 2ms/step - loss: 0.4207 - accuracy: 0.8281 - val_loss: 0.6087 - val_accuracy: 0.6990\n",
            "Epoch 65/100\n",
            "210/210 [==============================] - 0s 2ms/step - loss: 0.4383 - accuracy: 0.8139 - val_loss: 0.6135 - val_accuracy: 0.6979\n",
            "Epoch 66/100\n",
            "210/210 [==============================] - 0s 2ms/step - loss: 0.4306 - accuracy: 0.8214 - val_loss: 0.6099 - val_accuracy: 0.6964\n",
            "Epoch 67/100\n",
            "210/210 [==============================] - 1s 2ms/step - loss: 0.4336 - accuracy: 0.8235 - val_loss: 0.6165 - val_accuracy: 0.6984\n",
            "Epoch 68/100\n",
            "210/210 [==============================] - 0s 2ms/step - loss: 0.4330 - accuracy: 0.8195 - val_loss: 0.6178 - val_accuracy: 0.6974\n",
            "Epoch 69/100\n",
            "210/210 [==============================] - 0s 2ms/step - loss: 0.4238 - accuracy: 0.8308 - val_loss: 0.6208 - val_accuracy: 0.6984\n",
            "Epoch 70/100\n",
            "210/210 [==============================] - 1s 3ms/step - loss: 0.4333 - accuracy: 0.8183 - val_loss: 0.6184 - val_accuracy: 0.6969\n",
            "Epoch 71/100\n",
            "210/210 [==============================] - 0s 2ms/step - loss: 0.4356 - accuracy: 0.8215 - val_loss: 0.6236 - val_accuracy: 0.6964\n",
            "Epoch 72/100\n",
            "210/210 [==============================] - 0s 2ms/step - loss: 0.4296 - accuracy: 0.8192 - val_loss: 0.6270 - val_accuracy: 0.6969\n",
            "Epoch 73/100\n",
            "210/210 [==============================] - 0s 2ms/step - loss: 0.4205 - accuracy: 0.8229 - val_loss: 0.6303 - val_accuracy: 0.6984\n",
            "Epoch 74/100\n",
            "210/210 [==============================] - 0s 2ms/step - loss: 0.4346 - accuracy: 0.8167 - val_loss: 0.6279 - val_accuracy: 0.6953\n",
            "Epoch 75/100\n",
            "210/210 [==============================] - 0s 2ms/step - loss: 0.4233 - accuracy: 0.8219 - val_loss: 0.6318 - val_accuracy: 0.6958\n",
            "Epoch 76/100\n",
            "210/210 [==============================] - 0s 2ms/step - loss: 0.4202 - accuracy: 0.8266 - val_loss: 0.6350 - val_accuracy: 0.6958\n",
            "Epoch 77/100\n",
            "210/210 [==============================] - 0s 2ms/step - loss: 0.4185 - accuracy: 0.8281 - val_loss: 0.6401 - val_accuracy: 0.6958\n",
            "Epoch 78/100\n",
            "210/210 [==============================] - 0s 2ms/step - loss: 0.4346 - accuracy: 0.8137 - val_loss: 0.6401 - val_accuracy: 0.6948\n",
            "Epoch 79/100\n",
            "210/210 [==============================] - 0s 2ms/step - loss: 0.4192 - accuracy: 0.8272 - val_loss: 0.6401 - val_accuracy: 0.6953\n",
            "Epoch 80/100\n",
            "210/210 [==============================] - 0s 2ms/step - loss: 0.4216 - accuracy: 0.8318 - val_loss: 0.6436 - val_accuracy: 0.6953\n",
            "Epoch 81/100\n",
            "210/210 [==============================] - 0s 2ms/step - loss: 0.4216 - accuracy: 0.8253 - val_loss: 0.6461 - val_accuracy: 0.6948\n",
            "Epoch 82/100\n",
            "210/210 [==============================] - 0s 2ms/step - loss: 0.4201 - accuracy: 0.8316 - val_loss: 0.6463 - val_accuracy: 0.6953\n",
            "Epoch 83/100\n",
            "210/210 [==============================] - 0s 2ms/step - loss: 0.4122 - accuracy: 0.8340 - val_loss: 0.6476 - val_accuracy: 0.6948\n",
            "Epoch 84/100\n",
            "210/210 [==============================] - 0s 2ms/step - loss: 0.4128 - accuracy: 0.8219 - val_loss: 0.6446 - val_accuracy: 0.6943\n",
            "Epoch 85/100\n",
            "210/210 [==============================] - 1s 3ms/step - loss: 0.4248 - accuracy: 0.8268 - val_loss: 0.6499 - val_accuracy: 0.6948\n",
            "Epoch 86/100\n",
            "210/210 [==============================] - 0s 2ms/step - loss: 0.4173 - accuracy: 0.8258 - val_loss: 0.6534 - val_accuracy: 0.6948\n",
            "Epoch 87/100\n",
            "210/210 [==============================] - 0s 2ms/step - loss: 0.4085 - accuracy: 0.8420 - val_loss: 0.6572 - val_accuracy: 0.6943\n",
            "Epoch 88/100\n",
            "210/210 [==============================] - 0s 2ms/step - loss: 0.4071 - accuracy: 0.8301 - val_loss: 0.6552 - val_accuracy: 0.6948\n",
            "Epoch 89/100\n",
            "210/210 [==============================] - 0s 2ms/step - loss: 0.4068 - accuracy: 0.8388 - val_loss: 0.6587 - val_accuracy: 0.6943\n",
            "Epoch 90/100\n",
            "210/210 [==============================] - 0s 2ms/step - loss: 0.4014 - accuracy: 0.8345 - val_loss: 0.6618 - val_accuracy: 0.6938\n",
            "Epoch 91/100\n",
            "210/210 [==============================] - 0s 2ms/step - loss: 0.4079 - accuracy: 0.8346 - val_loss: 0.6584 - val_accuracy: 0.6948\n",
            "Epoch 92/100\n",
            "210/210 [==============================] - 0s 2ms/step - loss: 0.4094 - accuracy: 0.8334 - val_loss: 0.6669 - val_accuracy: 0.6948\n",
            "Epoch 93/100\n",
            "210/210 [==============================] - 0s 2ms/step - loss: 0.4204 - accuracy: 0.8281 - val_loss: 0.6637 - val_accuracy: 0.6948\n",
            "Epoch 94/100\n",
            "210/210 [==============================] - 0s 2ms/step - loss: 0.4081 - accuracy: 0.8362 - val_loss: 0.6670 - val_accuracy: 0.6948\n",
            "Epoch 95/100\n",
            "210/210 [==============================] - 1s 2ms/step - loss: 0.4084 - accuracy: 0.8332 - val_loss: 0.6720 - val_accuracy: 0.6943\n",
            "Epoch 96/100\n",
            "210/210 [==============================] - 0s 2ms/step - loss: 0.4197 - accuracy: 0.8260 - val_loss: 0.6714 - val_accuracy: 0.6948\n",
            "Epoch 97/100\n",
            "210/210 [==============================] - 0s 2ms/step - loss: 0.4004 - accuracy: 0.8354 - val_loss: 0.6744 - val_accuracy: 0.6943\n",
            "Epoch 98/100\n",
            "210/210 [==============================] - 0s 2ms/step - loss: 0.4257 - accuracy: 0.8248 - val_loss: 0.6736 - val_accuracy: 0.6943\n",
            "Epoch 99/100\n",
            "210/210 [==============================] - 0s 2ms/step - loss: 0.4001 - accuracy: 0.8360 - val_loss: 0.6797 - val_accuracy: 0.6943\n",
            "Epoch 100/100\n",
            "210/210 [==============================] - 0s 2ms/step - loss: 0.4172 - accuracy: 0.8322 - val_loss: 0.6760 - val_accuracy: 0.6932\n"
          ],
          "name": "stdout"
        },
        {
          "output_type": "execute_result",
          "data": {
            "text/plain": [
              "<keras.callbacks.History at 0x7fb667342190>"
            ]
          },
          "metadata": {
            "tags": []
          },
          "execution_count": 31
        }
      ]
    },
    {
      "cell_type": "code",
      "metadata": {
        "colab": {
          "base_uri": "https://localhost:8080/"
        },
        "id": "8x5dAQqMhtd7",
        "outputId": "d30c9427-133e-4a07-f0be-670cf607d767"
      },
      "source": [
        "model.summary()"
      ],
      "execution_count": null,
      "outputs": [
        {
          "output_type": "stream",
          "text": [
            "Model: \"sequential_2\"\n",
            "_________________________________________________________________\n",
            "Layer (type)                 Output Shape              Param #   \n",
            "=================================================================\n",
            "conv1d_2 (Conv1D)            (None, 6, 64)             256       \n",
            "_________________________________________________________________\n",
            "flatten_2 (Flatten)          (None, 384)               0         \n",
            "_________________________________________________________________\n",
            "dense_6 (Dense)              (None, 32)                12320     \n",
            "_________________________________________________________________\n",
            "dense_7 (Dense)              (None, 16)                528       \n",
            "_________________________________________________________________\n",
            "dropout_2 (Dropout)          (None, 16)                0         \n",
            "_________________________________________________________________\n",
            "dense_8 (Dense)              (None, 1)                 17        \n",
            "=================================================================\n",
            "Total params: 13,121\n",
            "Trainable params: 13,121\n",
            "Non-trainable params: 0\n",
            "_________________________________________________________________\n"
          ],
          "name": "stdout"
        }
      ]
    },
    {
      "cell_type": "code",
      "metadata": {
        "colab": {
          "base_uri": "https://localhost:8080/"
        },
        "id": "RQ552vtNh1Sk",
        "outputId": "a357ba07-a91a-4bb5-8026-c89e05092a6f"
      },
      "source": [
        "pred_cnn = model.predict_classes(X_test_shaped)\n",
        "pred_cnn = average(pred_cnn)\n",
        "y_score_7 = model.predict_proba(X_test_shaped)\n",
        "acc7 = accuracy_score(y_test, np.array(pred_cnn))\n",
        "f1_score_7 = metrics.f1_score(y_test, pred_cnn)\n",
        "roc_7 = metrics.roc_auc_score(y_test, y_score_7)\n",
        "print([acc7,f1_score_7,roc_7])\n",
        "print(confusion_matrix(y_test, pred_cnn))"
      ],
      "execution_count": null,
      "outputs": [
        {
          "output_type": "stream",
          "text": [
            "/usr/local/lib/python3.7/dist-packages/keras/engine/sequential.py:450: UserWarning: `model.predict_classes()` is deprecated and will be removed after 2021-01-01. Please use instead:* `np.argmax(model.predict(x), axis=-1)`,   if your model does multi-class classification   (e.g. if it uses a `softmax` last-layer activation).* `(model.predict(x) > 0.5).astype(\"int32\")`,   if your model does binary classification   (e.g. if it uses a `sigmoid` last-layer activation).\n",
            "  warnings.warn('`model.predict_classes()` is deprecated and '\n"
          ],
          "name": "stderr"
        },
        {
          "output_type": "stream",
          "text": [
            "[0.7192708333333333, 0.6520335700451905, 0.7617068142361111]\n",
            "[[876  84]\n",
            " [455 505]]\n"
          ],
          "name": "stdout"
        },
        {
          "output_type": "stream",
          "text": [
            "/usr/local/lib/python3.7/dist-packages/keras/engine/sequential.py:425: UserWarning: `model.predict_proba()` is deprecated and will be removed after 2021-01-01. Please use `model.predict()` instead.\n",
            "  warnings.warn('`model.predict_proba()` is deprecated and '\n"
          ],
          "name": "stderr"
        }
      ]
    },
    {
      "cell_type": "code",
      "metadata": {
        "colab": {
          "base_uri": "https://localhost:8080/",
          "height": 404
        },
        "id": "IVqMkvTrh38c",
        "outputId": "f1052d3c-a5df-4ef8-e2ec-47944598ab61"
      },
      "source": [
        "acc_total = {'Model':['KNN' ,'CNN'],\n",
        "        'Accuracy':[acc3,acc7]}\n",
        "acc_total=pd.DataFrame(acc_total)\n",
        "acc_total=acc_total.set_index('Model')\n",
        "acc_total\n",
        "plt.plot(acc_total['Accuracy'])\n",
        "plt.xticks(rotation=45)\n",
        "acc_total"
      ],
      "execution_count": null,
      "outputs": [
        {
          "output_type": "execute_result",
          "data": {
            "text/html": [
              "<div>\n",
              "<style scoped>\n",
              "    .dataframe tbody tr th:only-of-type {\n",
              "        vertical-align: middle;\n",
              "    }\n",
              "\n",
              "    .dataframe tbody tr th {\n",
              "        vertical-align: top;\n",
              "    }\n",
              "\n",
              "    .dataframe thead th {\n",
              "        text-align: right;\n",
              "    }\n",
              "</style>\n",
              "<table border=\"1\" class=\"dataframe\">\n",
              "  <thead>\n",
              "    <tr style=\"text-align: right;\">\n",
              "      <th></th>\n",
              "      <th>Accuracy</th>\n",
              "    </tr>\n",
              "    <tr>\n",
              "      <th>Model</th>\n",
              "      <th></th>\n",
              "    </tr>\n",
              "  </thead>\n",
              "  <tbody>\n",
              "    <tr>\n",
              "      <th>KNN</th>\n",
              "      <td>0.696354</td>\n",
              "    </tr>\n",
              "    <tr>\n",
              "      <th>CNN</th>\n",
              "      <td>0.719271</td>\n",
              "    </tr>\n",
              "  </tbody>\n",
              "</table>\n",
              "</div>"
            ],
            "text/plain": [
              "       Accuracy\n",
              "Model          \n",
              "KNN    0.696354\n",
              "CNN    0.719271"
            ]
          },
          "metadata": {
            "tags": []
          },
          "execution_count": 39
        },
        {
          "output_type": "display_data",
          "data": {
            "image/png": "[encoded data removed]",
            "text/plain": [
              "<Figure size 432x288 with 1 Axes>"
            ]
          },
          "metadata": {
            "tags": [],
            "needs_background": "light"
          }
        }
      ]
    }
  ]
}